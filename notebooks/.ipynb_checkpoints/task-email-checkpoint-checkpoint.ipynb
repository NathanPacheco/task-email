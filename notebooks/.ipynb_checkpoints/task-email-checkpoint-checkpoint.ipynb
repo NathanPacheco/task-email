{
 "cells": [
  {
   "cell_type": "code",
   "execution_count": 1,
   "id": "a957962a",
   "metadata": {},
   "outputs": [],
   "source": [
    "import yagmail\n",
    "import pandas as pd\n",
    "\n",
    "usuario = yagmail.SMTP(user='pythontestnathan@gmail.com', password='PTN@2022')"
   ]
  },
  {
   "cell_type": "code",
   "execution_count": 2,
   "id": "6bff0a74",
   "metadata": {},
   "outputs": [],
   "source": [
    "emails = pd.read_excel('../data/emails.xlsx')"
   ]
  },
  {
   "cell_type": "code",
   "execution_count": 4,
   "id": "22b5f6a8",
   "metadata": {},
   "outputs": [
    {
     "name": "stdout",
     "output_type": "stream",
     "text": [
      "Ocorreu um erro ao enviar os anexos. (535, b'5.7.8 Username and Password not accepted. Learn more at\\n5.7.8  https://support.google.com/mail/?p=BadCredentials z3-20020a056870384300b000e686d1388bsm1331298oal.37 - gsmtp')\n"
     ]
    }
   ],
   "source": [
    "try:\n",
    "    for i in emails.itertuples():\n",
    "        lista_email = i.email\n",
    "        assunto = f'E-mail para {i.gerente}.'\n",
    "        corpo_email = f'''\n",
    "            Segue e-mail para {i.gerente} sobre {i.relatorio}.\n",
    "            E-mail automático via Python\n",
    "        '''\n",
    "        anexo = f'../data/{i.relatorio}.xlsx'\n",
    "        usuario.send(to=lista_email, subject=assunto, contents=corpo_email, attachments=anexo)\n",
    "        \n",
    "        print('Anexos enviados!')\n",
    "        \n",
    "except Exception as e:\n",
    "    print('Ocorreu um erro ao enviar os anexos.', e)\n",
    "    raise e"
   ]
  }
 ],
 "metadata": {
  "kernelspec": {
   "display_name": "Python 3 (ipykernel)",
   "language": "python",
   "name": "python3"
  },
  "language_info": {
   "codemirror_mode": {
    "name": "ipython",
    "version": 3
   },
   "file_extension": ".py",
   "mimetype": "text/x-python",
   "name": "python",
   "nbconvert_exporter": "python",
   "pygments_lexer": "ipython3",
   "version": "3.9.7"
  }
 },
 "nbformat": 4,
 "nbformat_minor": 5
}
