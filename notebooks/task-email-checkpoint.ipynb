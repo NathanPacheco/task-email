{
 "cells": [
  {
   "cell_type": "code",
   "execution_count": 5,
   "id": "a957962a",
   "metadata": {},
   "outputs": [],
   "source": [
    "import yagmail\n",
    "import pandas as pd\n",
    "\n",
    "usuario = yagmail.SMTP(user='pythontestnathan@gmail.com', password='PTN@2022')"
   ]
  },
  {
   "cell_type": "code",
   "execution_count": 7,
   "id": "6bff0a74",
   "metadata": {},
   "outputs": [],
   "source": [
    "emails = pd.read_excel('../data/emails.xlsx')"
   ]
  },
  {
   "cell_type": "code",
   "execution_count": 8,
   "id": "e8f2439f-e601-4777-b564-a956bbe451ce",
   "metadata": {},
   "outputs": [
    {
     "data": {
      "text/html": [
       "<div>\n",
       "<style scoped>\n",
       "    .dataframe tbody tr th:only-of-type {\n",
       "        vertical-align: middle;\n",
       "    }\n",
       "\n",
       "    .dataframe tbody tr th {\n",
       "        vertical-align: top;\n",
       "    }\n",
       "\n",
       "    .dataframe thead th {\n",
       "        text-align: right;\n",
       "    }\n",
       "</style>\n",
       "<table border=\"1\" class=\"dataframe\">\n",
       "  <thead>\n",
       "    <tr style=\"text-align: right;\">\n",
       "      <th></th>\n",
       "      <th>gerente</th>\n",
       "      <th>email</th>\n",
       "      <th>relatorio</th>\n",
       "    </tr>\n",
       "  </thead>\n",
       "  <tbody>\n",
       "    <tr>\n",
       "      <th>0</th>\n",
       "      <td>Lira</td>\n",
       "      <td>nathan.pacheco2001@gmail.com</td>\n",
       "      <td>vendas</td>\n",
       "    </tr>\n",
       "    <tr>\n",
       "      <th>1</th>\n",
       "      <td>Julia</td>\n",
       "      <td>nathan.pacheco2001+1@gmail.com</td>\n",
       "      <td>producao</td>\n",
       "    </tr>\n",
       "    <tr>\n",
       "      <th>2</th>\n",
       "      <td>José</td>\n",
       "      <td>nathan.pacheco2001+2@gmail.com</td>\n",
       "      <td>manutencao</td>\n",
       "    </tr>\n",
       "    <tr>\n",
       "      <th>3</th>\n",
       "      <td>Gustavo</td>\n",
       "      <td>nathan.pacheco2001+3@gmail.com</td>\n",
       "      <td>operacoes</td>\n",
       "    </tr>\n",
       "    <tr>\n",
       "      <th>4</th>\n",
       "      <td>Ana</td>\n",
       "      <td>nathan.pacheco2001+4@gmail.com</td>\n",
       "      <td>logistica</td>\n",
       "    </tr>\n",
       "    <tr>\n",
       "      <th>5</th>\n",
       "      <td>Paula</td>\n",
       "      <td>nathan.pacheco2001+5@gmail.com</td>\n",
       "      <td>financeiro</td>\n",
       "    </tr>\n",
       "    <tr>\n",
       "      <th>6</th>\n",
       "      <td>Maria</td>\n",
       "      <td>nathan.pacheco2001+6@gmail.com</td>\n",
       "      <td>marketing</td>\n",
       "    </tr>\n",
       "  </tbody>\n",
       "</table>\n",
       "</div>"
      ],
      "text/plain": [
       "   gerente                           email   relatorio\n",
       "0     Lira    nathan.pacheco2001@gmail.com      vendas\n",
       "1    Julia  nathan.pacheco2001+1@gmail.com    producao\n",
       "2     José  nathan.pacheco2001+2@gmail.com  manutencao\n",
       "3  Gustavo  nathan.pacheco2001+3@gmail.com   operacoes\n",
       "4      Ana  nathan.pacheco2001+4@gmail.com   logistica\n",
       "5    Paula  nathan.pacheco2001+5@gmail.com  financeiro\n",
       "6    Maria  nathan.pacheco2001+6@gmail.com   marketing"
      ]
     },
     "execution_count": 8,
     "metadata": {},
     "output_type": "execute_result"
    }
   ],
   "source": [
    "emails"
   ]
  },
  {
   "cell_type": "code",
   "execution_count": 4,
   "id": "22b5f6a8",
   "metadata": {},
   "outputs": [
    {
     "ename": "NameError",
     "evalue": "name 'emails' is not defined",
     "output_type": "error",
     "traceback": [
      "\u001b[1;31m---------------------------------------------------------------------------\u001b[0m",
      "\u001b[1;31mNameError\u001b[0m                                 Traceback (most recent call last)",
      "\u001b[1;32m~\\AppData\\Local\\Temp/ipykernel_11640/3476887098.py\u001b[0m in \u001b[0;36m<module>\u001b[1;34m\u001b[0m\n\u001b[1;32m----> 1\u001b[1;33m \u001b[1;32mfor\u001b[0m \u001b[0mi\u001b[0m \u001b[1;32min\u001b[0m \u001b[0memails\u001b[0m\u001b[1;33m.\u001b[0m\u001b[0mitertuples\u001b[0m\u001b[1;33m(\u001b[0m\u001b[1;33m)\u001b[0m\u001b[1;33m:\u001b[0m\u001b[1;33m\u001b[0m\u001b[1;33m\u001b[0m\u001b[0m\n\u001b[0m\u001b[0;32m      2\u001b[0m     \u001b[0mlista_email\u001b[0m \u001b[1;33m=\u001b[0m \u001b[0mi\u001b[0m\u001b[1;33m.\u001b[0m\u001b[0memail\u001b[0m\u001b[1;33m\u001b[0m\u001b[1;33m\u001b[0m\u001b[0m\n\u001b[0;32m      3\u001b[0m     \u001b[0massunto\u001b[0m \u001b[1;33m=\u001b[0m \u001b[1;34mf'E-mail para {i.gerente}.'\u001b[0m\u001b[1;33m\u001b[0m\u001b[1;33m\u001b[0m\u001b[0m\n\u001b[0;32m      4\u001b[0m     corpo_email = f'''\n\u001b[0;32m      5\u001b[0m         \u001b[0mSegue\u001b[0m \u001b[0me\u001b[0m\u001b[1;33m-\u001b[0m\u001b[0mmail\u001b[0m \u001b[0mpara\u001b[0m \u001b[1;33m{\u001b[0m\u001b[0mi\u001b[0m\u001b[1;33m.\u001b[0m\u001b[0mgerente\u001b[0m\u001b[1;33m}\u001b[0m \u001b[0msobre\u001b[0m \u001b[1;33m{\u001b[0m\u001b[0mi\u001b[0m\u001b[1;33m.\u001b[0m\u001b[0mrelatorio\u001b[0m\u001b[1;33m}\u001b[0m\u001b[1;33m.\u001b[0m\u001b[1;33m\u001b[0m\u001b[1;33m\u001b[0m\u001b[0m\n",
      "\u001b[1;31mNameError\u001b[0m: name 'emails' is not defined"
     ]
    }
   ],
   "source": [
    "for i in emails.itertuples():\n",
    "    lista_email = i.email\n",
    "    assunto = f'E-mail para {i.gerente}.'\n",
    "    corpo_email = f'''\n",
    "        Segue e-mail para {i.gerente} sobre {i.relatorio}.\n",
    "        E-mail automático via Python\n",
    "    '''\n",
    "    anexo = f'C:/Users/natha/OneDrive/Documentos/repository/python-email/{i.relatorio}.xlsx'\n",
    "    usuario.send(to=lista_email, subject=assunto, contents=corpo_email, attachments=anexo)"
   ]
  }
 ],
 "metadata": {
  "kernelspec": {
   "display_name": "Python 3 (ipykernel)",
   "language": "python",
   "name": "python3"
  },
  "language_info": {
   "codemirror_mode": {
    "name": "ipython",
    "version": 3
   },
   "file_extension": ".py",
   "mimetype": "text/x-python",
   "name": "python",
   "nbconvert_exporter": "python",
   "pygments_lexer": "ipython3",
   "version": "3.9.7"
  }
 },
 "nbformat": 4,
 "nbformat_minor": 5
}
