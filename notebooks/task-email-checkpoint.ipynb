{
 "cells": [
  {
   "cell_type": "code",
   "execution_count": 4,
   "id": "a957962a",
   "metadata": {},
   "outputs": [],
   "source": [
    "import yagmail\n",
    "import pandas as pd\n",
    "\n",
    "usuario = yagmail.SMTP(user='pythontestnathan@gmail.com', password='PTN@2022')"
   ]
  },
  {
   "cell_type": "code",
   "execution_count": 5,
   "id": "6bff0a74",
   "metadata": {},
   "outputs": [],
   "source": [
    "emails = pd.read_excel('emails.xlsx')"
   ]
  },
  {
   "cell_type": "code",
   "execution_count": 6,
   "id": "22b5f6a8",
   "metadata": {},
   "outputs": [],
   "source": [
    "for i in emails.itertuples():\n",
    "    lista_email = i.email\n",
    "    assunto = f'E-mail para {i.gerente}.'\n",
    "    corpo_email = f'''\n",
    "        Segue e-mail para {i.gerente} sobre {i.relatorio}.\n",
    "        E-mail automático via Python\n",
    "    '''\n",
    "    anexo = f'C:/Users/natha/OneDrive/Documentos/repository/python-email/{i.relatorio}.xlsx'\n",
    "    usuario.send(to=lista_email, subject=assunto, contents=corpo_email, attachments=anexo)"
   ]
  }
 ],
 "metadata": {
  "kernelspec": {
   "display_name": "Python 3 (ipykernel)",
   "language": "python",
   "name": "python3"
  },
  "language_info": {
   "codemirror_mode": {
    "name": "ipython",
    "version": 3
   },
   "file_extension": ".py",
   "mimetype": "text/x-python",
   "name": "python",
   "nbconvert_exporter": "python",
   "pygments_lexer": "ipython3",
   "version": "3.9.7"
  }
 },
 "nbformat": 4,
 "nbformat_minor": 5
}
